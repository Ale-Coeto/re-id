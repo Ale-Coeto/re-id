{
 "cells": [
  {
   "cell_type": "code",
   "execution_count": null,
   "metadata": {},
   "outputs": [],
   "source": [
    "from REID_baseline_pytorch.reid_model import load_network, compare_images, extract_feature_from_img, get_structure\n",
    "from REID_baseline_pytorch.extract_emb_torchreid import extract_features_torchreid\n",
    "from ultralytics import YOLO\n",
    "import torch.nn as nn\n",
    "from PIL import Image\n",
    "import numpy as np\n",
    "import torch\n",
    "import cv2\n",
    "import os\n",
    "from tqdm import tqdm\n",
    "\n",
    "model = YOLO('yolov8n.pt')\n",
    "WIDTH_THRESHOLD = 0.1\n",
    "embeddings = []"
   ]
  }
 ],
 "metadata": {
  "language_info": {
   "name": "python"
  }
 },
 "nbformat": 4,
 "nbformat_minor": 2
}
